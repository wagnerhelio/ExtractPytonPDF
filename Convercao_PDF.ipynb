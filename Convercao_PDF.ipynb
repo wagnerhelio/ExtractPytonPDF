{
  "nbformat": 4,
  "nbformat_minor": 0,
  "metadata": {
    "colab": {
      "provenance": [],
      "include_colab_link": true
    },
    "kernelspec": {
      "name": "python3",
      "display_name": "Python 3"
    },
    "language_info": {
      "name": "python"
    }
  },
  "cells": [
    {
      "cell_type": "markdown",
      "metadata": {
        "id": "view-in-github",
        "colab_type": "text"
      },
      "source": [
        "<a href=\"https://colab.research.google.com/github/wagnerhelio/ExtractPytonPDF/blob/main/Convercao_PDF.ipynb\" target=\"_parent\"><img src=\"https://colab.research.google.com/assets/colab-badge.svg\" alt=\"Open In Colab\"/></a>"
      ]
    },
    {
      "cell_type": "code",
      "source": [
        "#Importando Bibliotecas\n",
        "!pip install tabula-py\n",
        "!pip install PyPDF2\n",
        "\n",
        "from PyPDF2 import PdfReader\n",
        "import tabula\n",
        "import pandas as pd\n",
        "import csv\n",
        "import re\n",
        "\n",
        "# Expressão regular para identificar datas no formato DD/MM/YYYY seguidas de ponto final\n",
        "date_pattern = re.compile(r'\\b\\d{2}/\\d{2}/\\d{4}\\.')\n",
        "\n",
        "# Abrir o arquivo PDF em modo de leitura binário\n",
        "with open(\"dados.pdf\", 'rb') as pdf_file:\n",
        "    # Criar o leitor de PDF\n",
        "    pdf_reader = PdfReader(pdf_file)\n",
        "\n",
        "    # Obter o número de páginas do PDF\n",
        "    number_of_pages = len(pdf_reader.pages)\n",
        "\n",
        "    # Inicializar variáveis de controle\n",
        "    start_line = 40\n",
        "    found_start = False\n",
        "    found_end = False\n",
        "    full_text = \"\"\n",
        "\n",
        "    # Iterar sobre as páginas do PDF\n",
        "    for page_number in range(number_of_pages):\n",
        "        page = pdf_reader.pages[page_number]\n",
        "        # Extrair o texto da página\n",
        "        text = page.extract_text()\n",
        "\n",
        "        # Dividir o texto em linhas\n",
        "        lines = text.splitlines()\n",
        "\n",
        "        for i, line in enumerate(lines):\n",
        "            if not found_start and i >= start_line:\n",
        "                found_start = True\n",
        "\n",
        "            if found_start and not found_end:\n",
        "                if (\"Goiânia, 05 de Novembro de 2024\" in line) or (\"Goiânia, 05 de Novembro de 2024\" in line):\n",
        "                    found_end = True\n",
        "                    break\n",
        "                full_text += line + \" \"  # Adicionar cada linha ao texto completo, separando com espaço\n",
        "\n",
        "        if found_end:\n",
        "            break\n",
        "\n",
        "    # Dividir o texto completo nas posições onde o padrão de data seguido de ponto final é encontrado\n",
        "    sentences = date_pattern.split(full_text)\n",
        "    matched_dates = date_pattern.findall(full_text)\n",
        "\n",
        "    # Nome do arquivo CSV\n",
        "    csv_filename = \"extracted_data.csv\"\n",
        "\n",
        "    # Exportar para CSV\n",
        "    with open(csv_filename, mode='w', newline='', encoding='utf-8') as file:\n",
        "        writer = csv.writer(file)\n",
        "\n",
        "        # Escrever o cabeçalho\n",
        "        writer.writerow([\"Placa\", \"Numero_auto_infracao\", \"Data_infracao\", \"Codigo_Infracao\", \"Valor_Multa\",\"Valor_Multa_Centavo\",\"Data_Limite\"])\n",
        "\n",
        "        # Escrever as frases no CSV, removendo o ponto final das datas encontradas\n",
        "        for i, sentence in enumerate(sentences):\n",
        "            if sentence.strip():  # Ignorar sentenças vazias\n",
        "                if i < len(matched_dates):\n",
        "                    # Remover o ponto final da data encontrada e adicionar a frase\n",
        "                    date_without_period = matched_dates[i].rstrip('.')\n",
        "                    writer.writerow([sentence.strip() + \" \" + date_without_period])\n",
        "                else:\n",
        "                    writer.writerow([sentence.strip()])\n",
        "\n",
        "print(f\"Texto extraído exportado para o arquivo {csv_filename}\")\n"
      ],
      "metadata": {
        "id": "gNzOyfdinvHo",
        "outputId": "4d45cba9-fa90-48bb-89ca-0dd646ef5afe",
        "colab": {
          "base_uri": "https://localhost:8080/"
        }
      },
      "execution_count": null,
      "outputs": [
        {
          "output_type": "stream",
          "name": "stdout",
          "text": [
            "Requirement already satisfied: tabula-py in /usr/local/lib/python3.10/dist-packages (2.10.0)\n",
            "Requirement already satisfied: pandas>=0.25.3 in /usr/local/lib/python3.10/dist-packages (from tabula-py) (2.2.2)\n",
            "Requirement already satisfied: numpy>1.24.4 in /usr/local/lib/python3.10/dist-packages (from tabula-py) (1.26.4)\n",
            "Requirement already satisfied: distro in /usr/local/lib/python3.10/dist-packages (from tabula-py) (1.9.0)\n",
            "Requirement already satisfied: python-dateutil>=2.8.2 in /usr/local/lib/python3.10/dist-packages (from pandas>=0.25.3->tabula-py) (2.8.2)\n",
            "Requirement already satisfied: pytz>=2020.1 in /usr/local/lib/python3.10/dist-packages (from pandas>=0.25.3->tabula-py) (2024.2)\n",
            "Requirement already satisfied: tzdata>=2022.7 in /usr/local/lib/python3.10/dist-packages (from pandas>=0.25.3->tabula-py) (2024.2)\n",
            "Requirement already satisfied: six>=1.5 in /usr/local/lib/python3.10/dist-packages (from python-dateutil>=2.8.2->pandas>=0.25.3->tabula-py) (1.16.0)\n",
            "Requirement already satisfied: PyPDF2 in /usr/local/lib/python3.10/dist-packages (3.0.1)\n",
            "Texto extraído exportado para o arquivo extracted_data.csv\n"
          ]
        }
      ]
    },
    {
      "cell_type": "code",
      "source": [],
      "metadata": {
        "id": "sU-91fYv6qDl"
      },
      "execution_count": null,
      "outputs": []
    },
    {
      "cell_type": "code",
      "source": [],
      "metadata": {
        "id": "j2FxziP6D4S1"
      },
      "execution_count": null,
      "outputs": []
    },
    {
      "cell_type": "code",
      "source": [],
      "metadata": {
        "id": "cNwvklz_D4q1"
      },
      "execution_count": null,
      "outputs": []
    },
    {
      "cell_type": "code",
      "source": [],
      "metadata": {
        "id": "evufms7wD52c"
      },
      "execution_count": null,
      "outputs": []
    }
  ]
}